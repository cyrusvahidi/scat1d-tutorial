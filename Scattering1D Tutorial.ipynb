{
 "cells": [
  {
   "cell_type": "markdown",
   "id": "877a239c",
   "metadata": {},
   "source": [
    "# Time Scattering in Kymatio"
   ]
  },
  {
   "cell_type": "markdown",
   "id": "735f6e5d",
   "metadata": {},
   "source": [
    "In this tutorial we will work through examples of time scattering (Scattering1D) in Kymatio\n",
    "\n",
    "* theory of the wavelet scattering transform of multiple orders\n",
    "* understanding the scattering filterbank construction parameters (J, Q, order)\n",
    "* visualizing the filters\n",
    "* visualizing the response to modulated sounds that appear in music and speech\n",
    "    - amplitude modulation (tremolo)\n",
    "    - frequency modulation (vibrato)\n",
    "    - attacks (note onset)\n",
    "    - amplitude modulation interference \n",
    "* generate a dataset of synthetic signals: varying spectral shape and interference patterns\n",
    "* unsupervised manifold embedding of the nearest neighbour graph (Isomap) of the dataset under Scattering1D, MFCCs and Open-L3 deep features\n",
    "\n",
    "[Kymatio Github](https://github.com/kymatio/kymatio)"
   ]
  },
  {
   "cell_type": "markdown",
   "id": "ae9a48be",
   "metadata": {},
   "source": [
    "- explain J, Q\n",
    "- check out xi at each order\n",
    "- plot the filters at each order\n",
    "- explain the transform, averaging\n",
    "- show invariance to time shifts, dilations\n",
    "- visualize non-averaged 1O, averaged 1O, scat 2O"
   ]
  },
  {
   "cell_type": "markdown",
   "id": "ab07ba46",
   "metadata": {},
   "source": [
    "### Installation"
   ]
  },
  {
   "cell_type": "code",
   "execution_count": null,
   "id": "87bea2cb",
   "metadata": {},
   "outputs": [],
   "source": [
    "!pip install kymatio"
   ]
  },
  {
   "cell_type": "markdown",
   "id": "a6838577",
   "metadata": {},
   "source": [
    "#### Import Scattering1D \n",
    "- Let's import the torch frontend. Tensorflow, Numpy and Jax are also available."
   ]
  },
  {
   "cell_type": "code",
   "execution_count": 3,
   "id": "250dfb7d",
   "metadata": {},
   "outputs": [],
   "source": [
    "import numpy as np, torch\n",
    "import matplotlib.pyplot as plt\n",
    "from kymatio.torch import Scattering1D\n",
    "from kymatio.scattering1d.filter_bank import scattering_filter_factory"
   ]
  },
  {
   "cell_type": "markdown",
   "id": "231a1320",
   "metadata": {},
   "source": [
    "#### Generate a Scattering Filterbank"
   ]
  },
  {
   "cell_type": "markdown",
   "id": "227cf3b7",
   "metadata": {},
   "source": [
    "First, we will use `scattering_filter_factory` to inspect the construction of a scattering filterbank\n",
    "\n",
    "To construct the filterbank, we define the following parameters: \n",
    "- the temporal support of the filters $T$, which corresponds to the size of the input signal and must be a power of two\n",
    "- the maximum scale $J$. The lowest scale (largest filter, lowest central frequency) will be defined over a time support of $2^J$. $J$ also determines the total number of octaves.\n",
    "- the number of wavelets filters per octave $Q$. When $Q = 1$, we get a dyadic wavelet filterbank i.e. subsequent wavelet filter central frequencies are spaced by a factor two. $Q$ determines how well we can localize a signal in frequency"
   ]
  },
  {
   "cell_type": "code",
   "execution_count": 5,
   "id": "7fcbe250",
   "metadata": {},
   "outputs": [
    {
     "name": "stdout",
     "output_type": "stream",
     "text": [
      "Help on function scattering_filter_factory in module kymatio.scattering1d.filter_bank:\n",
      "\n",
      "scattering_filter_factory(J_support, J_scattering, Q, T, r_psi=0.7071067811865476, criterion_amplitude=0.001, normalize='l1', max_subsampling=None, sigma0=0.1, alpha=4.0, P_max=5, eps=1e-07, **kwargs)\n",
      "    Builds in Fourier the Morlet filters used for the scattering transform.\n",
      "    \n",
      "    Each single filter is provided as a dictionary with the following keys:\n",
      "    * 'xi': central frequency, defaults to 0 for low-pass filters.\n",
      "    * 'sigma': frequential width\n",
      "    * k where k is an integer bounded below by 0. The maximal value for k\n",
      "        depends on the type of filter, it is dynamically chosen depending\n",
      "        on max_subsampling and the characteristics of the filters.\n",
      "        Each value for k is an array (or tensor) of size 2**(J_support - k)\n",
      "        containing the Fourier transform of the filter after subsampling by\n",
      "        2**k\n",
      "    * 'width': temporal width (interval of temporal invariance, i.e. its \"T\")\n",
      "    * 'support': temporal support (interval outside which wavelet is ~0)\n",
      "    \n",
      "    Parameters\n",
      "    ----------\n",
      "    J_support : int\n",
      "        2**J_support is the desired support size of the filters\n",
      "    J_scattering : int\n",
      "        parameter for the scattering transform (2**J_scattering\n",
      "        corresponds to maximal temporal support of any filter)\n",
      "    Q : int >= 1 / tuple[int]\n",
      "        The number of first-order wavelets per octave. Defaults to `1`.\n",
      "        If tuple, sets `Q = (Q1, Q2)`, where `Q2` is the number of\n",
      "        second-order wavelets per octave (which defaults to `1`).\n",
      "            - Q1: For audio signals, a value of `>= 12` is recommended in\n",
      "              order to separate partials.\n",
      "            - Q2: Recommended `1` for most (`Scattering1D)` applications.\n",
      "    T : int\n",
      "        temporal support of low-pass filter, controlling amount of imposed\n",
      "        time-shift invariance and maximum subsampling\n",
      "    r_psi : float / tuple[float], optional\n",
      "        Should be >0 and <1. Controls the redundancy of the filters\n",
      "        (the larger r_psi, the larger the overlap between adjacent wavelets),\n",
      "        and stability against time-warp deformations (larger r_psi improves it).\n",
      "        Defaults to sqrt(0.5).\n",
      "        Tuple sets separately for first- and second-order filters.\n",
      "    criterion_amplitude : float, optional\n",
      "        Represents the numerical error which is allowed to be lost after\n",
      "        convolution and padding. Defaults to 1e-3.\n",
      "    normalize : string, optional\n",
      "        Normalization convention for the filters (in the\n",
      "        temporal domain). Supported values include 'l1' and 'l2'; a ValueError\n",
      "        is raised otherwise. Defaults to 'l1'.\n",
      "    max_subsampling: int or None, optional\n",
      "        maximal dyadic subsampling to compute, in order\n",
      "        to save computation time if it is not required. Defaults to None, in\n",
      "        which case this value is dynamically adjusted depending on the filters.\n",
      "    sigma0 : float, optional\n",
      "        parameter controlling the frequential width of the\n",
      "        low-pass filter at J_scattering=0; at a an absolute J_scattering, it\n",
      "        is equal to sigma0 / 2**J_scattering. Defaults to 1e-1\n",
      "    alpha : float, optional\n",
      "        tolerance factor for the aliasing after subsampling.\n",
      "        The larger alpha, the more conservative the value of maximal\n",
      "        subsampling is. Defaults to 4.\n",
      "    P_max : int, optional\n",
      "        maximal number of periods to use to make sure that the Fourier\n",
      "        transform of the filters is periodic. P_max = 5 is more than enough for\n",
      "        double precision. Defaults to 5. Should be >= 1\n",
      "    eps : float, optional\n",
      "        required machine precision for the periodization (single\n",
      "        floating point is enough for deep learning applications).\n",
      "        Defaults to 1e-7\n",
      "    \n",
      "    Returns\n",
      "    -------\n",
      "    phi_f : dictionary\n",
      "        a dictionary containing the low-pass filter at all possible\n",
      "        subsamplings. See above for a description of the dictionary structure.\n",
      "        The possible subsamplings are controlled by the inputs they can\n",
      "        receive, which correspond to the subsamplings performed on top of the\n",
      "        1st and 2nd order transforms.\n",
      "    psi1_f : dictionary\n",
      "        a dictionary containing the band-pass filters of the 1st order,\n",
      "        only for the base resolution as no subsampling is used in the\n",
      "        scattering tree.\n",
      "        Each value corresponds to a dictionary for a single filter, see above\n",
      "        for an exact description.\n",
      "        The keys of this dictionary are of the type (j, n) where n is an\n",
      "        integer counting the filters and j the maximal dyadic subsampling\n",
      "        which can be performed on top of the filter without aliasing.\n",
      "    psi2_f : dictionary\n",
      "        a dictionary containing the band-pass filters of the 2nd order\n",
      "        at all possible subsamplings. The subsamplings are determined by the\n",
      "        input they can receive, which depends on the scattering tree.\n",
      "        Each value corresponds to a dictionary for a single filter, see above\n",
      "        for an exact description.\n",
      "        The keys of this dictionary are of th etype (j, n) where n is an\n",
      "        integer counting the filters and j is the maximal dyadic subsampling\n",
      "        which can be performed on top of this filter without aliasing.\n",
      "    \n",
      "    Refs\n",
      "    ----\n",
      "    Convolutional operators in the time-frequency domain, V. Lostanlen,\n",
      "    PhD Thesis, 2017\n",
      "    https://tel.archives-ouvertes.fr/tel-01559667\n",
      "\n"
     ]
    }
   ],
   "source": [
    "help(scattering_filter_factory)"
   ]
  },
  {
   "cell_type": "code",
   "execution_count": null,
   "id": "8ddf3a8a",
   "metadata": {},
   "outputs": [],
   "source": []
  }
 ],
 "metadata": {
  "kernelspec": {
   "display_name": "Python 3 (ipykernel)",
   "language": "python",
   "name": "python3"
  },
  "language_info": {
   "codemirror_mode": {
    "name": "ipython",
    "version": 3
   },
   "file_extension": ".py",
   "mimetype": "text/x-python",
   "name": "python",
   "nbconvert_exporter": "python",
   "pygments_lexer": "ipython3",
   "version": "3.8.2"
  }
 },
 "nbformat": 4,
 "nbformat_minor": 5
}
